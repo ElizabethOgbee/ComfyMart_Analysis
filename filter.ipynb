{
 "cells": [
  {
   "cell_type": "code",
   "execution_count": 1,
   "id": "a882dbdc",
   "metadata": {},
   "outputs": [
    {
     "data": {
      "text/html": [
       "<div>\n",
       "<style scoped>\n",
       "    .dataframe tbody tr th:only-of-type {\n",
       "        vertical-align: middle;\n",
       "    }\n",
       "\n",
       "    .dataframe tbody tr th {\n",
       "        vertical-align: top;\n",
       "    }\n",
       "\n",
       "    .dataframe thead th {\n",
       "        text-align: right;\n",
       "    }\n",
       "</style>\n",
       "<table border=\"1\" class=\"dataframe\">\n",
       "  <thead>\n",
       "    <tr style=\"text-align: right;\">\n",
       "      <th></th>\n",
       "      <th>date</th>\n",
       "      <th>sku</th>\n",
       "      <th>brand</th>\n",
       "      <th>segment</th>\n",
       "      <th>category</th>\n",
       "      <th>channel</th>\n",
       "      <th>region</th>\n",
       "      <th>pack_type</th>\n",
       "      <th>price_unit</th>\n",
       "      <th>promotion_flag</th>\n",
       "      <th>delivery_days</th>\n",
       "      <th>stock_available</th>\n",
       "      <th>delivered_qty</th>\n",
       "      <th>units_sold</th>\n",
       "    </tr>\n",
       "  </thead>\n",
       "  <tbody>\n",
       "    <tr>\n",
       "      <th>0</th>\n",
       "      <td>2022-01-21</td>\n",
       "      <td>MI-006</td>\n",
       "      <td>MiBrand1</td>\n",
       "      <td>Milk-Seg3</td>\n",
       "      <td>Milk</td>\n",
       "      <td>Retail</td>\n",
       "      <td>PL-Central</td>\n",
       "      <td>Multipack</td>\n",
       "      <td>2.38</td>\n",
       "      <td>0</td>\n",
       "      <td>1</td>\n",
       "      <td>141</td>\n",
       "      <td>128</td>\n",
       "      <td>9</td>\n",
       "    </tr>\n",
       "    <tr>\n",
       "      <th>1</th>\n",
       "      <td>2022-01-21</td>\n",
       "      <td>MI-006</td>\n",
       "      <td>MiBrand1</td>\n",
       "      <td>Milk-Seg3</td>\n",
       "      <td>Milk</td>\n",
       "      <td>Retail</td>\n",
       "      <td>PL-North</td>\n",
       "      <td>Single</td>\n",
       "      <td>1.55</td>\n",
       "      <td>1</td>\n",
       "      <td>3</td>\n",
       "      <td>0</td>\n",
       "      <td>129</td>\n",
       "      <td>0</td>\n",
       "    </tr>\n",
       "    <tr>\n",
       "      <th>2</th>\n",
       "      <td>2022-01-21</td>\n",
       "      <td>MI-006</td>\n",
       "      <td>MiBrand1</td>\n",
       "      <td>Milk-Seg3</td>\n",
       "      <td>Milk</td>\n",
       "      <td>Retail</td>\n",
       "      <td>PL-South</td>\n",
       "      <td>Carton</td>\n",
       "      <td>4.00</td>\n",
       "      <td>0</td>\n",
       "      <td>5</td>\n",
       "      <td>118</td>\n",
       "      <td>161</td>\n",
       "      <td>8</td>\n",
       "    </tr>\n",
       "    <tr>\n",
       "      <th>3</th>\n",
       "      <td>2022-01-21</td>\n",
       "      <td>MI-006</td>\n",
       "      <td>MiBrand1</td>\n",
       "      <td>Milk-Seg3</td>\n",
       "      <td>Milk</td>\n",
       "      <td>Discount</td>\n",
       "      <td>PL-Central</td>\n",
       "      <td>Single</td>\n",
       "      <td>5.16</td>\n",
       "      <td>0</td>\n",
       "      <td>2</td>\n",
       "      <td>81</td>\n",
       "      <td>114</td>\n",
       "      <td>7</td>\n",
       "    </tr>\n",
       "    <tr>\n",
       "      <th>4</th>\n",
       "      <td>2022-01-21</td>\n",
       "      <td>MI-006</td>\n",
       "      <td>MiBrand1</td>\n",
       "      <td>Milk-Seg3</td>\n",
       "      <td>Milk</td>\n",
       "      <td>Discount</td>\n",
       "      <td>PL-North</td>\n",
       "      <td>Single</td>\n",
       "      <td>7.66</td>\n",
       "      <td>0</td>\n",
       "      <td>4</td>\n",
       "      <td>148</td>\n",
       "      <td>204</td>\n",
       "      <td>12</td>\n",
       "    </tr>\n",
       "  </tbody>\n",
       "</table>\n",
       "</div>"
      ],
      "text/plain": [
       "         date     sku     brand    segment category   channel      region  \\\n",
       "0  2022-01-21  MI-006  MiBrand1  Milk-Seg3     Milk    Retail  PL-Central   \n",
       "1  2022-01-21  MI-006  MiBrand1  Milk-Seg3     Milk    Retail    PL-North   \n",
       "2  2022-01-21  MI-006  MiBrand1  Milk-Seg3     Milk    Retail    PL-South   \n",
       "3  2022-01-21  MI-006  MiBrand1  Milk-Seg3     Milk  Discount  PL-Central   \n",
       "4  2022-01-21  MI-006  MiBrand1  Milk-Seg3     Milk  Discount    PL-North   \n",
       "\n",
       "   pack_type  price_unit  promotion_flag  delivery_days  stock_available  \\\n",
       "0  Multipack        2.38               0              1              141   \n",
       "1     Single        1.55               1              3                0   \n",
       "2     Carton        4.00               0              5              118   \n",
       "3     Single        5.16               0              2               81   \n",
       "4     Single        7.66               0              4              148   \n",
       "\n",
       "   delivered_qty  units_sold  \n",
       "0            128           9  \n",
       "1            129           0  \n",
       "2            161           8  \n",
       "3            114           7  \n",
       "4            204          12  "
      ]
     },
     "execution_count": 1,
     "metadata": {},
     "output_type": "execute_result"
    }
   ],
   "source": [
    "import pandas as pd\n",
    "df = pd.read_csv('CLEANED_FMCG_2022_2024.csv')\n",
    "df.head()"
   ]
  },
  {
   "cell_type": "markdown",
   "id": "bf3d6fea",
   "metadata": {},
   "source": [
    "you want us to drill down into Aug 2023 specifically (e.g., top SKUs, regions, channels for that peak month) to uncover why sales exploded? That could directly connect your EDA with Step 2: Inventory Optimization tomorrow."
   ]
  },
  {
   "cell_type": "markdown",
   "id": "1791f257",
   "metadata": {},
   "source": [
    "Deep Dive Plan – August 2023\n",
    "\n",
    "Filter dataset → keep only rows from Aug 2023."
   ]
  },
  {
   "cell_type": "code",
   "execution_count": 2,
   "id": "54e6f4c1",
   "metadata": {},
   "outputs": [],
   "source": [
    "aug_2023 = df[(df['date'] >= '2023-8-1') & (df['date'] <= '2023-8-31')]"
   ]
  },
  {
   "cell_type": "markdown",
   "id": "170d96b1",
   "metadata": {},
   "source": [
    "Top SKUs → find which products drove sales."
   ]
  },
  {
   "cell_type": "code",
   "execution_count": 6,
   "id": "5cbfc677",
   "metadata": {},
   "outputs": [
    {
     "data": {
      "text/plain": [
       "Series([], Name: units_sold, dtype: int64)"
      ]
     },
     "execution_count": 6,
     "metadata": {},
     "output_type": "execute_result"
    }
   ],
   "source": [
    "aug_2023.groupby('sku')['units_sold'].sum().sort_values(ascending=False)\n"
   ]
  },
  {
   "cell_type": "markdown",
   "id": "f7d991a4",
   "metadata": {},
   "source": [
    "Top Brands/Categories → maybe one category (like Milk or Snacks) dominated."
   ]
  },
  {
   "cell_type": "code",
   "execution_count": 7,
   "id": "99903fc3",
   "metadata": {},
   "outputs": [
    {
     "data": {
      "text/plain": [
       "Series([], Name: units_sold, dtype: int64)"
      ]
     },
     "execution_count": 7,
     "metadata": {},
     "output_type": "execute_result"
    }
   ],
   "source": [
    "aug_2023.groupby('category')['units_sold'].sum().sort_values(ascending=False).head()"
   ]
  },
  {
   "cell_type": "markdown",
   "id": "b461bce0",
   "metadata": {},
   "source": [
    "Channels → check whether Retail, Discount, or Online channels contributed most."
   ]
  },
  {
   "cell_type": "code",
   "execution_count": 9,
   "id": "9d71a192",
   "metadata": {},
   "outputs": [
    {
     "data": {
      "text/plain": [
       "Series([], Name: units_sold, dtype: int64)"
      ]
     },
     "execution_count": 9,
     "metadata": {},
     "output_type": "execute_result"
    }
   ],
   "source": [
    "aug_2023.groupby('channel')['units_sold'].sum()"
   ]
  },
  {
   "cell_type": "markdown",
   "id": "6c723187",
   "metadata": {},
   "source": [
    "Regions → see which part of the country drove the spike."
   ]
  },
  {
   "cell_type": "code",
   "execution_count": 10,
   "id": "6b64e858",
   "metadata": {},
   "outputs": [
    {
     "data": {
      "text/plain": [
       "Series([], Name: units_sold, dtype: int64)"
      ]
     },
     "execution_count": 10,
     "metadata": {},
     "output_type": "execute_result"
    }
   ],
   "source": [
    "aug_2023.groupby('region')['units_sold'].sum(\n",
    ").sort_values(ascending=False).head()"
   ]
  },
  {
   "cell_type": "markdown",
   "id": "36ed46fc",
   "metadata": {},
   "source": [
    "🧠 Business Angle\n",
    "\n",
    "Once we run those, we can answer:\n",
    "\n",
    "Was the peak driven by a few SKUs (blockbuster products)?\n",
    "\n",
    "Did a brand/category do something special (promo, price cut)?\n",
    "\n",
    "Was it regional (e.g., North booming)?\n",
    "\n",
    "Or did every channel rise together (a company-wide push)?"
   ]
  },
  {
   "cell_type": "code",
   "execution_count": null,
   "id": "38f0931d",
   "metadata": {},
   "outputs": [],
   "source": []
  }
 ],
 "metadata": {
  "kernelspec": {
   "display_name": "Python 3",
   "language": "python",
   "name": "python3"
  },
  "language_info": {
   "codemirror_mode": {
    "name": "ipython",
    "version": 3
   },
   "file_extension": ".py",
   "mimetype": "text/x-python",
   "name": "python",
   "nbconvert_exporter": "python",
   "pygments_lexer": "ipython3",
   "version": "3.13.3"
  }
 },
 "nbformat": 4,
 "nbformat_minor": 5
}
