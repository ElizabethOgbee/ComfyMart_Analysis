{
 "cells": [
  {
   "cell_type": "code",
   "execution_count": 12,
   "id": "a882dbdc",
   "metadata": {},
   "outputs": [
    {
     "data": {
      "text/html": [
       "<div>\n",
       "<style scoped>\n",
       "    .dataframe tbody tr th:only-of-type {\n",
       "        vertical-align: middle;\n",
       "    }\n",
       "\n",
       "    .dataframe tbody tr th {\n",
       "        vertical-align: top;\n",
       "    }\n",
       "\n",
       "    .dataframe thead th {\n",
       "        text-align: right;\n",
       "    }\n",
       "</style>\n",
       "<table border=\"1\" class=\"dataframe\">\n",
       "  <thead>\n",
       "    <tr style=\"text-align: right;\">\n",
       "      <th></th>\n",
       "      <th>date</th>\n",
       "      <th>sku</th>\n",
       "      <th>brand</th>\n",
       "      <th>segment</th>\n",
       "      <th>category</th>\n",
       "      <th>channel</th>\n",
       "      <th>region</th>\n",
       "      <th>pack_type</th>\n",
       "      <th>price_unit</th>\n",
       "      <th>promotion_flag</th>\n",
       "      <th>delivery_days</th>\n",
       "      <th>stock_available</th>\n",
       "      <th>delivered_qty</th>\n",
       "      <th>units_sold</th>\n",
       "    </tr>\n",
       "  </thead>\n",
       "  <tbody>\n",
       "    <tr>\n",
       "      <th>0</th>\n",
       "      <td>2022-01-21</td>\n",
       "      <td>MI-006</td>\n",
       "      <td>MiBrand1</td>\n",
       "      <td>Milk-Seg3</td>\n",
       "      <td>Milk</td>\n",
       "      <td>Retail</td>\n",
       "      <td>PL-Central</td>\n",
       "      <td>Multipack</td>\n",
       "      <td>2.38</td>\n",
       "      <td>0</td>\n",
       "      <td>1</td>\n",
       "      <td>141</td>\n",
       "      <td>128</td>\n",
       "      <td>9</td>\n",
       "    </tr>\n",
       "    <tr>\n",
       "      <th>1</th>\n",
       "      <td>2022-01-21</td>\n",
       "      <td>MI-006</td>\n",
       "      <td>MiBrand1</td>\n",
       "      <td>Milk-Seg3</td>\n",
       "      <td>Milk</td>\n",
       "      <td>Retail</td>\n",
       "      <td>PL-North</td>\n",
       "      <td>Single</td>\n",
       "      <td>1.55</td>\n",
       "      <td>1</td>\n",
       "      <td>3</td>\n",
       "      <td>0</td>\n",
       "      <td>129</td>\n",
       "      <td>0</td>\n",
       "    </tr>\n",
       "    <tr>\n",
       "      <th>2</th>\n",
       "      <td>2022-01-21</td>\n",
       "      <td>MI-006</td>\n",
       "      <td>MiBrand1</td>\n",
       "      <td>Milk-Seg3</td>\n",
       "      <td>Milk</td>\n",
       "      <td>Retail</td>\n",
       "      <td>PL-South</td>\n",
       "      <td>Carton</td>\n",
       "      <td>4.00</td>\n",
       "      <td>0</td>\n",
       "      <td>5</td>\n",
       "      <td>118</td>\n",
       "      <td>161</td>\n",
       "      <td>8</td>\n",
       "    </tr>\n",
       "    <tr>\n",
       "      <th>3</th>\n",
       "      <td>2022-01-21</td>\n",
       "      <td>MI-006</td>\n",
       "      <td>MiBrand1</td>\n",
       "      <td>Milk-Seg3</td>\n",
       "      <td>Milk</td>\n",
       "      <td>Discount</td>\n",
       "      <td>PL-Central</td>\n",
       "      <td>Single</td>\n",
       "      <td>5.16</td>\n",
       "      <td>0</td>\n",
       "      <td>2</td>\n",
       "      <td>81</td>\n",
       "      <td>114</td>\n",
       "      <td>7</td>\n",
       "    </tr>\n",
       "    <tr>\n",
       "      <th>4</th>\n",
       "      <td>2022-01-21</td>\n",
       "      <td>MI-006</td>\n",
       "      <td>MiBrand1</td>\n",
       "      <td>Milk-Seg3</td>\n",
       "      <td>Milk</td>\n",
       "      <td>Discount</td>\n",
       "      <td>PL-North</td>\n",
       "      <td>Single</td>\n",
       "      <td>7.66</td>\n",
       "      <td>0</td>\n",
       "      <td>4</td>\n",
       "      <td>148</td>\n",
       "      <td>204</td>\n",
       "      <td>12</td>\n",
       "    </tr>\n",
       "  </tbody>\n",
       "</table>\n",
       "</div>"
      ],
      "text/plain": [
       "         date     sku     brand    segment category   channel      region  \\\n",
       "0  2022-01-21  MI-006  MiBrand1  Milk-Seg3     Milk    Retail  PL-Central   \n",
       "1  2022-01-21  MI-006  MiBrand1  Milk-Seg3     Milk    Retail    PL-North   \n",
       "2  2022-01-21  MI-006  MiBrand1  Milk-Seg3     Milk    Retail    PL-South   \n",
       "3  2022-01-21  MI-006  MiBrand1  Milk-Seg3     Milk  Discount  PL-Central   \n",
       "4  2022-01-21  MI-006  MiBrand1  Milk-Seg3     Milk  Discount    PL-North   \n",
       "\n",
       "   pack_type  price_unit  promotion_flag  delivery_days  stock_available  \\\n",
       "0  Multipack        2.38               0              1              141   \n",
       "1     Single        1.55               1              3                0   \n",
       "2     Carton        4.00               0              5              118   \n",
       "3     Single        5.16               0              2               81   \n",
       "4     Single        7.66               0              4              148   \n",
       "\n",
       "   delivered_qty  units_sold  \n",
       "0            128           9  \n",
       "1            129           0  \n",
       "2            161           8  \n",
       "3            114           7  \n",
       "4            204          12  "
      ]
     },
     "execution_count": 12,
     "metadata": {},
     "output_type": "execute_result"
    }
   ],
   "source": [
    "import pandas as pd\n",
    "df = pd.read_csv('CLEANED_FMCG_2022_2024.csv')\n",
    "df.head()"
   ]
  },
  {
   "cell_type": "markdown",
   "id": "bf3d6fea",
   "metadata": {},
   "source": [
    "you want us to drill down into Aug 2023 specifically (e.g., top SKUs, regions, channels for that peak month) to uncover why sales exploded? That could directly connect your EDA with Step 2: Inventory Optimization tomorrow."
   ]
  },
  {
   "cell_type": "markdown",
   "id": "1791f257",
   "metadata": {},
   "source": [
    "Deep Dive Plan – August 2023\n",
    "\n",
    "Filter dataset → keep only rows from Aug 2023."
   ]
  },
  {
   "cell_type": "code",
   "execution_count": 15,
   "id": "03c1a237",
   "metadata": {},
   "outputs": [],
   "source": [
    "df['date'] = pd.to_datetime(df['date'])"
   ]
  },
  {
   "cell_type": "code",
   "execution_count": 16,
   "id": "54e6f4c1",
   "metadata": {},
   "outputs": [],
   "source": [
    "aug_2023 = df[(df['date'] >= '2023-8-1') & (df['date'] <= '2023-8-31')]"
   ]
  },
  {
   "cell_type": "markdown",
   "id": "170d96b1",
   "metadata": {},
   "source": [
    "Top SKUs → find which products drove sales."
   ]
  },
  {
   "cell_type": "code",
   "execution_count": 28,
   "id": "5cbfc677",
   "metadata": {},
   "outputs": [
    {
     "data": {
      "text/html": [
       "<div>\n",
       "<style scoped>\n",
       "    .dataframe tbody tr th:only-of-type {\n",
       "        vertical-align: middle;\n",
       "    }\n",
       "\n",
       "    .dataframe tbody tr th {\n",
       "        vertical-align: top;\n",
       "    }\n",
       "\n",
       "    .dataframe thead th {\n",
       "        text-align: right;\n",
       "    }\n",
       "</style>\n",
       "<table border=\"1\" class=\"dataframe\">\n",
       "  <thead>\n",
       "    <tr style=\"text-align: right;\">\n",
       "      <th></th>\n",
       "      <th>sku</th>\n",
       "      <th>units_sold</th>\n",
       "    </tr>\n",
       "  </thead>\n",
       "  <tbody>\n",
       "    <tr>\n",
       "      <th>0</th>\n",
       "      <td>SN-030</td>\n",
       "      <td>7095</td>\n",
       "    </tr>\n",
       "    <tr>\n",
       "      <th>1</th>\n",
       "      <td>SN-028</td>\n",
       "      <td>7070</td>\n",
       "    </tr>\n",
       "    <tr>\n",
       "      <th>2</th>\n",
       "      <td>MI-008</td>\n",
       "      <td>6262</td>\n",
       "    </tr>\n",
       "    <tr>\n",
       "      <th>3</th>\n",
       "      <td>MI-002</td>\n",
       "      <td>6234</td>\n",
       "    </tr>\n",
       "    <tr>\n",
       "      <th>4</th>\n",
       "      <td>SN-019</td>\n",
       "      <td>6230</td>\n",
       "    </tr>\n",
       "    <tr>\n",
       "      <th>5</th>\n",
       "      <td>YO-018</td>\n",
       "      <td>6227</td>\n",
       "    </tr>\n",
       "    <tr>\n",
       "      <th>6</th>\n",
       "      <td>YO-024</td>\n",
       "      <td>6170</td>\n",
       "    </tr>\n",
       "    <tr>\n",
       "      <th>7</th>\n",
       "      <td>MI-011</td>\n",
       "      <td>5834</td>\n",
       "    </tr>\n",
       "    <tr>\n",
       "      <th>8</th>\n",
       "      <td>SN-013</td>\n",
       "      <td>5565</td>\n",
       "    </tr>\n",
       "    <tr>\n",
       "      <th>9</th>\n",
       "      <td>SN-010</td>\n",
       "      <td>5453</td>\n",
       "    </tr>\n",
       "  </tbody>\n",
       "</table>\n",
       "</div>"
      ],
      "text/plain": [
       "      sku  units_sold\n",
       "0  SN-030        7095\n",
       "1  SN-028        7070\n",
       "2  MI-008        6262\n",
       "3  MI-002        6234\n",
       "4  SN-019        6230\n",
       "5  YO-018        6227\n",
       "6  YO-024        6170\n",
       "7  MI-011        5834\n",
       "8  SN-013        5565\n",
       "9  SN-010        5453"
      ]
     },
     "execution_count": 28,
     "metadata": {},
     "output_type": "execute_result"
    }
   ],
   "source": [
    "aug_2023.groupby('sku')['units_sold'].sum().sort_values(ascending=False).reset_index().head(10)\n"
   ]
  },
  {
   "cell_type": "markdown",
   "id": "f7d991a4",
   "metadata": {},
   "source": [
    " dominated."
   ]
  },
  {
   "cell_type": "code",
   "execution_count": 18,
   "id": "99903fc3",
   "metadata": {},
   "outputs": [
    {
     "data": {
      "text/plain": [
       "category\n",
       "Yogurt       55451\n",
       "SnackBar     36682\n",
       "Milk         36678\n",
       "ReadyMeal    20844\n",
       "Juice         4607\n",
       "Name: units_sold, dtype: int64"
      ]
     },
     "execution_count": 18,
     "metadata": {},
     "output_type": "execute_result"
    }
   ],
   "source": [
    "aug_2023.groupby('category')['units_sold'].sum().sort_values(ascending=False).head()"
   ]
  },
  {
   "cell_type": "markdown",
   "id": "b461bce0",
   "metadata": {},
   "source": [
    "Channels → check whether Retail, Discount, or Online channels contributed most."
   ]
  },
  {
   "cell_type": "code",
   "execution_count": 24,
   "id": "9d71a192",
   "metadata": {},
   "outputs": [
    {
     "data": {
      "text/plain": [
       "channel\n",
       "Discount      52192\n",
       "E-commerce    51407\n",
       "Retail        50663\n",
       "Name: units_sold, dtype: int64"
      ]
     },
     "execution_count": 24,
     "metadata": {},
     "output_type": "execute_result"
    }
   ],
   "source": [
    "aug_2023.groupby('channel')['units_sold'].sum().sort_values(ascending=False)"
   ]
  },
  {
   "cell_type": "markdown",
   "id": "6c723187",
   "metadata": {},
   "source": [
    "Regions → see which part of the country drove the spike."
   ]
  },
  {
   "cell_type": "code",
   "execution_count": 20,
   "id": "6b64e858",
   "metadata": {},
   "outputs": [
    {
     "data": {
      "text/plain": [
       "region\n",
       "PL-Central    51636\n",
       "PL-North      51390\n",
       "PL-South      51236\n",
       "Name: units_sold, dtype: int64"
      ]
     },
     "execution_count": 20,
     "metadata": {},
     "output_type": "execute_result"
    }
   ],
   "source": [
    "aug_2023.groupby('region')['units_sold'].sum(\n",
    ").sort_values(ascending=False).head()"
   ]
  },
  {
   "cell_type": "markdown",
   "id": "36ed46fc",
   "metadata": {},
   "source": [
    "🧠 Business Angle\n",
    "\n",
    "Once we run those, we can answer:\n",
    "\n",
    "Was the peak driven by a few SKUs (blockbuster products)?\n",
    "\n",
    "Did a brand/category do something special (promo, price cut)?\n",
    "\n",
    "Was it regional (e.g., North booming)?\n",
    "\n",
    "Or did every channel rise together (a company-wide push)?"
   ]
  },
  {
   "cell_type": "markdown",
   "id": "ee6c366d",
   "metadata": {},
   "source": [
    "Day 2 – Inventory Optimization\n",
    "\n",
    "Goal: Identify fast vs. slow-moving products so the company can:\n",
    "\n",
    "Avoid overstocking slow movers\n",
    "\n",
    "Avoid running out of fast movers\n",
    "\n",
    "Step 2 Plan\n",
    "\n",
    "Define fast vs. slow movers\n",
    "\n",
    "Usually based on sales volume (e.g., top 20% SKUs = fast movers, bottom 20% = slow movers).\n",
    "\n",
    "Could also factor in stock availability vs. units_sold.\n",
    "\n",
    "Aggregate sales per SKU\n",
    "\n",
    "sku_sales = df.groupby('sku')['units_sold'].sum().sort_values(ascending=False)\n",
    "\n",
    "\n",
    "Rank SKUs\n",
    "\n",
    "Create a ranking or percentiles (e.g., top 10% = fastest).\n",
    "\n",
    "This helps visualize the distribution.\n",
    "\n",
    "Business insight\n",
    "\n",
    "Which SKUs are blockbusters (always selling)?\n",
    "\n",
    "Which are laggards (sitting in inventory, tying up cash)?"
   ]
  },
  {
   "cell_type": "markdown",
   "id": "41d80d3a",
   "metadata": {},
   "source": [
    "🔹 Why group by sku + pack_type?\n",
    "\n",
    "Each SKU represents a unique product code (e.g. SN-018).\n",
    "\n",
    "But in your dataset, the same SKU can appear with different pack types (Single, Multi, Carton).\n",
    "\n",
    "That means SKU alone isn’t unique — because SN-018 Single ≠ SN-018 Multi ≠ SN-018 Carton.\n",
    "\n",
    "If we only group by sku, we mix up all pack sizes together, and we won’t know which pack type is fast or slow moving.\n",
    "\n",
    "🔹 Example\n",
    "\n",
    "Imagine your raw sales look like this:\n",
    "\n",
    "sku\tcategory\tpack_type\tunits_sold\n",
    "SN-018\tSnackBar\tSingle\t2,000\n",
    "SN-018\tSnackBar\tMulti\t5,000\n",
    "SN-018\tSnackBar\tCarton\t10,000\n",
    "SN-030\tSnackBar\tSingle\t3,500\n",
    "\n",
    "If we group only by SKU:\n",
    "👉 SN-018 = 17,000 units.\n",
    "But we lose track of which pack type sold better.\n",
    "\n",
    "If we group by SKU + Pack type:\n",
    "👉 SN-018 Single = 2,000\n",
    "👉 SN-018 Multi = 5,000\n",
    "👉 SN-018 Carton = 10,000\n",
    "\n",
    "That way, we can see which pack type is moving faster.\n",
    "For example, maybe Cartons are fast movers but Singles are slow movers.\n",
    "\n",
    "🔹 Why this matters for inventory optimization\n",
    "\n",
    "If Cartons are selling fast, the warehouse should stock more Cartons.\n",
    "\n",
    "If Singles are slow movers, the company may reduce production or run promotions to clear them before expiry.\n",
    "\n",
    "So grouping by sku + pack_type is not mixing up data — it’s actually separating them properly so you can analyze each variant fairly.\n",
    "\n",
    "✅ If you agree with this logic, we can proceed with grouping by sku + pack_type."
   ]
  },
  {
   "cell_type": "code",
   "execution_count": 54,
   "id": "38f0931d",
   "metadata": {},
   "outputs": [
    {
     "name": "stdout",
     "output_type": "stream",
     "text": [
      "       sku category  pack_type  units_sold  rank\n",
      "0   JU-021    Juice     Carton       41949  43.0\n",
      "1   JU-021    Juice  Multipack       41437  45.0\n",
      "2   JU-021    Juice     Single       40963  48.0\n",
      "3   MI-002     Milk     Carton       32617  79.0\n",
      "4   MI-002     Milk  Multipack       30486  84.0\n",
      "..     ...      ...        ...         ...   ...\n",
      "85  YO-024   Yogurt  Multipack       36574  64.0\n",
      "86  YO-024   Yogurt     Single       36060  65.0\n",
      "87  YO-029   Yogurt     Carton       58681   3.0\n",
      "88  YO-029   Yogurt  Multipack       60588   1.0\n",
      "89  YO-029   Yogurt     Single       58529   4.0\n",
      "\n",
      "[90 rows x 5 columns]\n"
     ]
    }
   ],
   "source": [
    "sku_pack_sales_grouped = (df.groupby(['sku', 'category', 'pack_type'])['units_sold'].sum())\n",
    "print(sku_pack_sales)#.head(10)"
   ]
  },
  {
   "cell_type": "markdown",
   "id": "7c5af5cc",
   "metadata": {},
   "source": [
    "2️⃣ Ranking on units_sold"
   ]
  },
  {
   "cell_type": "code",
   "execution_count": 51,
   "id": "8df83f1b",
   "metadata": {},
   "outputs": [],
   "source": [
    "sku_pack_sales['rank'] = sku_pack_sales['units_sold'].rank(ascending=False, method='dense')"
   ]
  },
  {
   "cell_type": "code",
   "execution_count": null,
   "id": "df377b44",
   "metadata": {},
   "outputs": [],
   "source": []
  }
 ],
 "metadata": {
  "kernelspec": {
   "display_name": "Python 3",
   "language": "python",
   "name": "python3"
  },
  "language_info": {
   "codemirror_mode": {
    "name": "ipython",
    "version": 3
   },
   "file_extension": ".py",
   "mimetype": "text/x-python",
   "name": "python",
   "nbconvert_exporter": "python",
   "pygments_lexer": "ipython3",
   "version": "3.13.3"
  }
 },
 "nbformat": 4,
 "nbformat_minor": 5
}
