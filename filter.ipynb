{
 "cells": [
  {
   "cell_type": "code",
   "execution_count": 76,
   "id": "a882dbdc",
   "metadata": {},
   "outputs": [
    {
     "data": {
      "text/html": [
       "<div>\n",
       "<style scoped>\n",
       "    .dataframe tbody tr th:only-of-type {\n",
       "        vertical-align: middle;\n",
       "    }\n",
       "\n",
       "    .dataframe tbody tr th {\n",
       "        vertical-align: top;\n",
       "    }\n",
       "\n",
       "    .dataframe thead th {\n",
       "        text-align: right;\n",
       "    }\n",
       "</style>\n",
       "<table border=\"1\" class=\"dataframe\">\n",
       "  <thead>\n",
       "    <tr style=\"text-align: right;\">\n",
       "      <th></th>\n",
       "      <th>date</th>\n",
       "      <th>sku</th>\n",
       "      <th>brand</th>\n",
       "      <th>segment</th>\n",
       "      <th>category</th>\n",
       "      <th>channel</th>\n",
       "      <th>region</th>\n",
       "      <th>pack_type</th>\n",
       "      <th>price_unit</th>\n",
       "      <th>promotion_flag</th>\n",
       "      <th>delivery_days</th>\n",
       "      <th>stock_available</th>\n",
       "      <th>delivered_qty</th>\n",
       "      <th>units_sold</th>\n",
       "    </tr>\n",
       "  </thead>\n",
       "  <tbody>\n",
       "    <tr>\n",
       "      <th>0</th>\n",
       "      <td>2022-01-21</td>\n",
       "      <td>MI-006</td>\n",
       "      <td>MiBrand1</td>\n",
       "      <td>Milk-Seg3</td>\n",
       "      <td>Milk</td>\n",
       "      <td>Retail</td>\n",
       "      <td>PL-Central</td>\n",
       "      <td>Multipack</td>\n",
       "      <td>2.38</td>\n",
       "      <td>0</td>\n",
       "      <td>1</td>\n",
       "      <td>141</td>\n",
       "      <td>128</td>\n",
       "      <td>9</td>\n",
       "    </tr>\n",
       "    <tr>\n",
       "      <th>1</th>\n",
       "      <td>2022-01-21</td>\n",
       "      <td>MI-006</td>\n",
       "      <td>MiBrand1</td>\n",
       "      <td>Milk-Seg3</td>\n",
       "      <td>Milk</td>\n",
       "      <td>Retail</td>\n",
       "      <td>PL-North</td>\n",
       "      <td>Single</td>\n",
       "      <td>1.55</td>\n",
       "      <td>1</td>\n",
       "      <td>3</td>\n",
       "      <td>0</td>\n",
       "      <td>129</td>\n",
       "      <td>0</td>\n",
       "    </tr>\n",
       "    <tr>\n",
       "      <th>2</th>\n",
       "      <td>2022-01-21</td>\n",
       "      <td>MI-006</td>\n",
       "      <td>MiBrand1</td>\n",
       "      <td>Milk-Seg3</td>\n",
       "      <td>Milk</td>\n",
       "      <td>Retail</td>\n",
       "      <td>PL-South</td>\n",
       "      <td>Carton</td>\n",
       "      <td>4.00</td>\n",
       "      <td>0</td>\n",
       "      <td>5</td>\n",
       "      <td>118</td>\n",
       "      <td>161</td>\n",
       "      <td>8</td>\n",
       "    </tr>\n",
       "    <tr>\n",
       "      <th>3</th>\n",
       "      <td>2022-01-21</td>\n",
       "      <td>MI-006</td>\n",
       "      <td>MiBrand1</td>\n",
       "      <td>Milk-Seg3</td>\n",
       "      <td>Milk</td>\n",
       "      <td>Discount</td>\n",
       "      <td>PL-Central</td>\n",
       "      <td>Single</td>\n",
       "      <td>5.16</td>\n",
       "      <td>0</td>\n",
       "      <td>2</td>\n",
       "      <td>81</td>\n",
       "      <td>114</td>\n",
       "      <td>7</td>\n",
       "    </tr>\n",
       "    <tr>\n",
       "      <th>4</th>\n",
       "      <td>2022-01-21</td>\n",
       "      <td>MI-006</td>\n",
       "      <td>MiBrand1</td>\n",
       "      <td>Milk-Seg3</td>\n",
       "      <td>Milk</td>\n",
       "      <td>Discount</td>\n",
       "      <td>PL-North</td>\n",
       "      <td>Single</td>\n",
       "      <td>7.66</td>\n",
       "      <td>0</td>\n",
       "      <td>4</td>\n",
       "      <td>148</td>\n",
       "      <td>204</td>\n",
       "      <td>12</td>\n",
       "    </tr>\n",
       "  </tbody>\n",
       "</table>\n",
       "</div>"
      ],
      "text/plain": [
       "         date     sku     brand    segment category   channel      region  \\\n",
       "0  2022-01-21  MI-006  MiBrand1  Milk-Seg3     Milk    Retail  PL-Central   \n",
       "1  2022-01-21  MI-006  MiBrand1  Milk-Seg3     Milk    Retail    PL-North   \n",
       "2  2022-01-21  MI-006  MiBrand1  Milk-Seg3     Milk    Retail    PL-South   \n",
       "3  2022-01-21  MI-006  MiBrand1  Milk-Seg3     Milk  Discount  PL-Central   \n",
       "4  2022-01-21  MI-006  MiBrand1  Milk-Seg3     Milk  Discount    PL-North   \n",
       "\n",
       "   pack_type  price_unit  promotion_flag  delivery_days  stock_available  \\\n",
       "0  Multipack        2.38               0              1              141   \n",
       "1     Single        1.55               1              3                0   \n",
       "2     Carton        4.00               0              5              118   \n",
       "3     Single        5.16               0              2               81   \n",
       "4     Single        7.66               0              4              148   \n",
       "\n",
       "   delivered_qty  units_sold  \n",
       "0            128           9  \n",
       "1            129           0  \n",
       "2            161           8  \n",
       "3            114           7  \n",
       "4            204          12  "
      ]
     },
     "execution_count": 76,
     "metadata": {},
     "output_type": "execute_result"
    }
   ],
   "source": [
    "import pandas as pd\n",
    "df = pd.read_csv('CLEANED_FMCG_2022_2024.csv')\n",
    "df.head()"
   ]
  },
  {
   "cell_type": "markdown",
   "id": "bf3d6fea",
   "metadata": {},
   "source": [
    "you want us to drill down into Aug 2023 specifically (e.g., top SKUs, regions, channels for that peak month) to uncover why sales exploded? That could directly connect your EDA with Step 2: Inventory Optimization tomorrow."
   ]
  },
  {
   "cell_type": "markdown",
   "id": "1791f257",
   "metadata": {},
   "source": [
    "Deep Dive Plan – August 2023\n",
    "\n",
    "Filter dataset → keep only rows from Aug 2023."
   ]
  },
  {
   "cell_type": "code",
   "execution_count": 77,
   "id": "03c1a237",
   "metadata": {},
   "outputs": [],
   "source": [
    "df['date'] = pd.to_datetime(df['date'])"
   ]
  },
  {
   "cell_type": "code",
   "execution_count": 78,
   "id": "54e6f4c1",
   "metadata": {},
   "outputs": [],
   "source": [
    "aug_2023 = df[(df['date'] >= '2023-8-1') & (df['date'] <= '2023-8-31')]"
   ]
  },
  {
   "cell_type": "markdown",
   "id": "170d96b1",
   "metadata": {},
   "source": [
    "Top SKUs → find which products drove sales."
   ]
  },
  {
   "cell_type": "code",
   "execution_count": 79,
   "id": "5cbfc677",
   "metadata": {},
   "outputs": [
    {
     "data": {
      "text/html": [
       "<div>\n",
       "<style scoped>\n",
       "    .dataframe tbody tr th:only-of-type {\n",
       "        vertical-align: middle;\n",
       "    }\n",
       "\n",
       "    .dataframe tbody tr th {\n",
       "        vertical-align: top;\n",
       "    }\n",
       "\n",
       "    .dataframe thead th {\n",
       "        text-align: right;\n",
       "    }\n",
       "</style>\n",
       "<table border=\"1\" class=\"dataframe\">\n",
       "  <thead>\n",
       "    <tr style=\"text-align: right;\">\n",
       "      <th></th>\n",
       "      <th>sku</th>\n",
       "      <th>units_sold</th>\n",
       "    </tr>\n",
       "  </thead>\n",
       "  <tbody>\n",
       "    <tr>\n",
       "      <th>0</th>\n",
       "      <td>SN-030</td>\n",
       "      <td>7095</td>\n",
       "    </tr>\n",
       "    <tr>\n",
       "      <th>1</th>\n",
       "      <td>SN-028</td>\n",
       "      <td>7070</td>\n",
       "    </tr>\n",
       "    <tr>\n",
       "      <th>2</th>\n",
       "      <td>MI-008</td>\n",
       "      <td>6262</td>\n",
       "    </tr>\n",
       "    <tr>\n",
       "      <th>3</th>\n",
       "      <td>MI-002</td>\n",
       "      <td>6234</td>\n",
       "    </tr>\n",
       "    <tr>\n",
       "      <th>4</th>\n",
       "      <td>SN-019</td>\n",
       "      <td>6230</td>\n",
       "    </tr>\n",
       "    <tr>\n",
       "      <th>5</th>\n",
       "      <td>YO-018</td>\n",
       "      <td>6227</td>\n",
       "    </tr>\n",
       "    <tr>\n",
       "      <th>6</th>\n",
       "      <td>YO-024</td>\n",
       "      <td>6170</td>\n",
       "    </tr>\n",
       "    <tr>\n",
       "      <th>7</th>\n",
       "      <td>MI-011</td>\n",
       "      <td>5834</td>\n",
       "    </tr>\n",
       "    <tr>\n",
       "      <th>8</th>\n",
       "      <td>SN-013</td>\n",
       "      <td>5565</td>\n",
       "    </tr>\n",
       "    <tr>\n",
       "      <th>9</th>\n",
       "      <td>SN-010</td>\n",
       "      <td>5453</td>\n",
       "    </tr>\n",
       "  </tbody>\n",
       "</table>\n",
       "</div>"
      ],
      "text/plain": [
       "      sku  units_sold\n",
       "0  SN-030        7095\n",
       "1  SN-028        7070\n",
       "2  MI-008        6262\n",
       "3  MI-002        6234\n",
       "4  SN-019        6230\n",
       "5  YO-018        6227\n",
       "6  YO-024        6170\n",
       "7  MI-011        5834\n",
       "8  SN-013        5565\n",
       "9  SN-010        5453"
      ]
     },
     "execution_count": 79,
     "metadata": {},
     "output_type": "execute_result"
    }
   ],
   "source": [
    "aug_2023.groupby('sku')['units_sold'].sum().sort_values(ascending=False).reset_index().head(10)\n"
   ]
  },
  {
   "cell_type": "markdown",
   "id": "f7d991a4",
   "metadata": {},
   "source": [
    " dominated."
   ]
  },
  {
   "cell_type": "code",
   "execution_count": 80,
   "id": "99903fc3",
   "metadata": {},
   "outputs": [
    {
     "data": {
      "text/plain": [
       "category\n",
       "Yogurt       55451\n",
       "SnackBar     36682\n",
       "Milk         36678\n",
       "ReadyMeal    20844\n",
       "Juice         4607\n",
       "Name: units_sold, dtype: int64"
      ]
     },
     "execution_count": 80,
     "metadata": {},
     "output_type": "execute_result"
    }
   ],
   "source": [
    "aug_2023.groupby('category')['units_sold'].sum().sort_values(ascending=False).head()"
   ]
  },
  {
   "cell_type": "markdown",
   "id": "b461bce0",
   "metadata": {},
   "source": [
    "Channels → check whether Retail, Discount, or Online channels contributed most."
   ]
  },
  {
   "cell_type": "code",
   "execution_count": 81,
   "id": "9d71a192",
   "metadata": {},
   "outputs": [
    {
     "data": {
      "text/plain": [
       "channel\n",
       "Discount      52192\n",
       "E-commerce    51407\n",
       "Retail        50663\n",
       "Name: units_sold, dtype: int64"
      ]
     },
     "execution_count": 81,
     "metadata": {},
     "output_type": "execute_result"
    }
   ],
   "source": [
    "aug_2023.groupby('channel')['units_sold'].sum().sort_values(ascending=False)"
   ]
  },
  {
   "cell_type": "markdown",
   "id": "6c723187",
   "metadata": {},
   "source": [
    "Regions → see which part of the country drove the spike."
   ]
  },
  {
   "cell_type": "code",
   "execution_count": 82,
   "id": "6b64e858",
   "metadata": {},
   "outputs": [
    {
     "data": {
      "text/plain": [
       "region\n",
       "PL-Central    51636\n",
       "PL-North      51390\n",
       "PL-South      51236\n",
       "Name: units_sold, dtype: int64"
      ]
     },
     "execution_count": 82,
     "metadata": {},
     "output_type": "execute_result"
    }
   ],
   "source": [
    "aug_2023.groupby('region')['units_sold'].sum(\n",
    ").sort_values(ascending=False).head()"
   ]
  },
  {
   "cell_type": "markdown",
   "id": "36ed46fc",
   "metadata": {},
   "source": [
    "🧠 Business Angle\n",
    "\n",
    "Once we run those, we can answer:\n",
    "\n",
    "Was the peak driven by a few SKUs (blockbuster products)?\n",
    "\n",
    "Did a brand/category do something special (promo, price cut)?\n",
    "\n",
    "Was it regional (e.g., North booming)?\n",
    "\n",
    "Or did every channel rise together (a company-wide push)?"
   ]
  },
  {
   "cell_type": "markdown",
   "id": "ee6c366d",
   "metadata": {},
   "source": [
    "Day 2 – Inventory Optimization\n",
    "\n",
    "Goal: Identify fast vs. slow-moving products so the company can:\n",
    "\n",
    "Avoid overstocking slow movers\n",
    "\n",
    "Avoid running out of fast movers\n",
    "\n",
    "Step 2 Plan\n",
    "\n",
    "Define fast vs. slow movers\n",
    "\n",
    "Usually based on sales volume (e.g., top 20% SKUs = fast movers, bottom 20% = slow movers).\n",
    "\n",
    "Could also factor in stock availability vs. units_sold.\n",
    "\n",
    "Aggregate sales per SKU\n",
    "\n",
    "sku_sales = df.groupby('sku')['units_sold'].sum().sort_values(ascending=False)\n",
    "\n",
    "\n",
    "Rank SKUs\n",
    "\n",
    "Create a ranking or percentiles (e.g., top 10% = fastest).\n",
    "\n",
    "This helps visualize the distribution.\n",
    "\n",
    "Business insight\n",
    "\n",
    "Which SKUs are blockbusters (always selling)?\n",
    "\n",
    "Which are laggards (sitting in inventory, tying up cash)?"
   ]
  },
  {
   "cell_type": "markdown",
   "id": "41d80d3a",
   "metadata": {},
   "source": [
    "🔹 Why group by sku + pack_type?\n",
    "\n",
    "Each SKU represents a unique product code (e.g. SN-018).\n",
    "\n",
    "But in your dataset, the same SKU can appear with different pack types (Single, Multi, Carton).\n",
    "\n",
    "That means SKU alone isn’t unique — because SN-018 Single ≠ SN-018 Multi ≠ SN-018 Carton.\n",
    "\n",
    "If we only group by sku, we mix up all pack sizes together, and we won’t know which pack type is fast or slow moving.\n",
    "\n",
    "🔹 Example\n",
    "\n",
    "Imagine your raw sales look like this:\n",
    "\n",
    "sku\tcategory\tpack_type\tunits_sold\n",
    "SN-018\tSnackBar\tSingle\t2,000\n",
    "SN-018\tSnackBar\tMulti\t5,000\n",
    "SN-018\tSnackBar\tCarton\t10,000\n",
    "SN-030\tSnackBar\tSingle\t3,500\n",
    "\n",
    "If we group only by SKU:\n",
    "👉 SN-018 = 17,000 units.\n",
    "But we lose track of which pack type sold better.\n",
    "\n",
    "If we group by SKU + Pack type:\n",
    "👉 SN-018 Single = 2,000\n",
    "👉 SN-018 Multi = 5,000\n",
    "👉 SN-018 Carton = 10,000\n",
    "\n",
    "That way, we can see which pack type is moving faster.\n",
    "For example, maybe Cartons are fast movers but Singles are slow movers.\n",
    "\n",
    "🔹 Why this matters for inventory optimization\n",
    "\n",
    "If Cartons are selling fast, the warehouse should stock more Cartons.\n",
    "\n",
    "If Singles are slow movers, the company may reduce production or run promotions to clear them before expiry.\n",
    "\n",
    "So grouping by sku + pack_type is not mixing up data — it’s actually separating them properly so you can analyze each variant fairly.\n",
    "\n",
    "✅ If you agree with this logic, we can proceed with grouping by sku + pack_type."
   ]
  },
  {
   "cell_type": "code",
   "execution_count": 83,
   "id": "38f0931d",
   "metadata": {},
   "outputs": [
    {
     "name": "stdout",
     "output_type": "stream",
     "text": [
      "       sku category  pack_type  units_sold\n",
      "0   JU-021    Juice     Carton       41949\n",
      "1   JU-021    Juice  Multipack       41437\n",
      "2   JU-021    Juice     Single       40963\n",
      "3   MI-002     Milk     Carton       32617\n",
      "4   MI-002     Milk  Multipack       30486\n",
      "..     ...      ...        ...         ...\n",
      "85  YO-024   Yogurt  Multipack       36574\n",
      "86  YO-024   Yogurt     Single       36060\n",
      "87  YO-029   Yogurt     Carton       58681\n",
      "88  YO-029   Yogurt  Multipack       60588\n",
      "89  YO-029   Yogurt     Single       58529\n",
      "\n",
      "[90 rows x 4 columns]\n"
     ]
    }
   ],
   "source": [
    "sku_pack_sales_grouped = (df.groupby(\n",
    "    ['sku', 'category', 'pack_type'], as_index=False)['units_sold'].sum())\n",
    "print(sku_pack_sales_grouped)#.head(10)"
   ]
  },
  {
   "cell_type": "markdown",
   "id": "7c5af5cc",
   "metadata": {},
   "source": [
    "2️⃣ Ranking on units_sold"
   ]
  },
  {
   "cell_type": "code",
   "execution_count": 85,
   "id": "8df83f1b",
   "metadata": {},
   "outputs": [],
   "source": [
    "sku_pack_sales_grouped['rank'] = sku_pack_sales_grouped['units_sold'].rank(ascending=False, method='dense')"
   ]
  },
  {
   "cell_type": "markdown",
   "id": "0091a83d",
   "metadata": {},
   "source": [
    " Percentile (relative standing from 0 → 1)"
   ]
  },
  {
   "cell_type": "code",
   "execution_count": null,
   "id": "bb7b778e",
   "metadata": {},
   "outputs": [
    {
     "name": "stdout",
     "output_type": "stream",
     "text": [
      "       sku   category  pack_type  units_sold  rank  percentile  mover_type\n",
      "0   JU-021      Juice     Carton       41949  43.0    0.477778    0.533333\n",
      "1   JU-021      Juice  Multipack       41437  45.0    0.500000    0.511111\n",
      "2   JU-021      Juice     Single       40963  48.0    0.533333    0.477778\n",
      "3   MI-002       Milk     Carton       32617  79.0    0.877778    0.133333\n",
      "4   MI-002       Milk  Multipack       30486  84.0    0.933333    0.077778\n",
      "5   MI-002       Milk     Single       32431  81.0    0.900000    0.111111\n",
      "6   MI-006       Milk     Carton       43706  40.0    0.444444    0.566667\n",
      "7   MI-006       Milk  Multipack       44781  36.0    0.400000    0.611111\n",
      "8   MI-006       Milk     Single       44136  38.0    0.422222    0.588889\n",
      "9   MI-008       Milk     Carton       28754  86.0    0.955556    0.055556\n",
      "10  MI-008       Milk  Multipack       27079  89.0    0.988889    0.022222\n",
      "11  MI-008       Milk     Single       27055  90.0    1.000000    0.011111\n",
      "12  MI-011       Milk     Carton       27299  88.0    0.977778    0.033333\n",
      "13  MI-011       Milk  Multipack       29443  85.0    0.944444    0.066667\n",
      "14  MI-011       Milk     Single       27884  87.0    0.966667    0.044444\n",
      "15  MI-022       Milk     Carton       33084  77.0    0.855556    0.155556\n",
      "16  MI-022       Milk  Multipack       33636  73.0    0.811111    0.200000\n",
      "17  MI-022       Milk     Single       34395  69.0    0.766667    0.244444\n",
      "18  MI-023       Milk     Carton       44504  37.0    0.411111    0.600000\n",
      "19  MI-023       Milk  Multipack       43292  41.0    0.455556    0.555556\n",
      "20  MI-023       Milk     Single       45828  33.0    0.366667    0.644444\n",
      "21  MI-026       Milk     Carton       51575  11.0    0.122222    0.888889\n",
      "22  MI-026       Milk  Multipack       49907  14.0    0.155556    0.855556\n",
      "23  MI-026       Milk     Single       50842  13.0    0.144444    0.866667\n",
      "24  RE-004  ReadyMeal     Carton       49729  16.0    0.177778    0.833333\n",
      "25  RE-004  ReadyMeal  Multipack       48100  28.0    0.311111    0.700000\n",
      "26  RE-004  ReadyMeal     Single       51730  10.0    0.111111    0.900000\n",
      "27  RE-007  ReadyMeal     Carton       48191  26.0    0.288889    0.722222\n",
      "28  RE-007  ReadyMeal  Multipack       48945  21.0    0.233333    0.777778\n",
      "29  RE-007  ReadyMeal     Single       49569  17.0    0.188889    0.822222\n",
      "30  RE-015  ReadyMeal     Carton       46828  30.0    0.333333    0.677778\n",
      "31  RE-015  ReadyMeal  Multipack       48674  22.0    0.244444    0.766667\n",
      "32  RE-015  ReadyMeal     Single       49032  19.0    0.211111    0.800000\n",
      "33  RE-017  ReadyMeal     Carton       39032  57.0    0.633333    0.377778\n",
      "34  RE-017  ReadyMeal  Multipack       39322  56.0    0.622222    0.388889\n",
      "35  RE-017  ReadyMeal     Single       37998  59.0    0.655556    0.355556\n",
      "36  RE-025  ReadyMeal     Carton       40217  52.0    0.577778    0.433333\n",
      "37  RE-025  ReadyMeal  Multipack       41178  46.0    0.511111    0.500000\n",
      "38  RE-025  ReadyMeal     Single       40289  51.0    0.566667    0.444444\n",
      "39  SN-010   SnackBar     Carton       41012  47.0    0.522222    0.488889\n",
      "40  SN-010   SnackBar  Multipack       39554  54.0    0.600000    0.411111\n",
      "41  SN-010   SnackBar     Single       40933  49.0    0.544444    0.466667\n",
      "42  SN-013   SnackBar     Carton       34936  68.0    0.755556    0.255556\n",
      "43  SN-013   SnackBar  Multipack       33534  75.0    0.833333    0.177778\n",
      "44  SN-013   SnackBar     Single       34940  67.0    0.744444    0.266667\n",
      "45  SN-019   SnackBar     Carton       36809  63.0    0.700000    0.311111\n",
      "46  SN-019   SnackBar  Multipack       35508  66.0    0.733333    0.277778\n",
      "47  SN-019   SnackBar     Single       37276  60.0    0.666667    0.344444\n",
      "48  SN-027   SnackBar     Carton       39500  55.0    0.611111    0.400000\n",
      "49  SN-027   SnackBar  Multipack       38832  58.0    0.644444    0.366667\n",
      "50  SN-027   SnackBar     Single       37054  61.0    0.677778    0.333333\n",
      "51  SN-028   SnackBar     Carton       33968  71.0    0.788889    0.222222\n",
      "52  SN-028   SnackBar  Multipack       33742  72.0    0.800000    0.211111\n",
      "53  SN-028   SnackBar     Single       33996  70.0    0.777778    0.233333\n",
      "54  SN-030   SnackBar     Carton       32304  82.0    0.911111    0.100000\n",
      "55  SN-030   SnackBar  Multipack       30902  83.0    0.922222    0.088889\n",
      "56  SN-030   SnackBar     Single       32525  80.0    0.888889    0.122222\n",
      "57  YO-001     Yogurt     Carton       48117  27.0    0.300000    0.711111\n",
      "58  YO-001     Yogurt  Multipack       49500  18.0    0.200000    0.811111\n",
      "59  YO-001     Yogurt     Single       49029  20.0    0.222222    0.788889\n"
     ]
    }
   ],
   "source": [
    "sku_pack_sales_grouped['percentile'] = sku_pack_sales_grouped['units_sold'].rank(pct=True, ascending=False)\n",
    "print(sku_pack_sales_grouped.head(60))"
   ]
  },
  {
   "cell_type": "markdown",
   "id": "243a85e7",
   "metadata": {},
   "source": [
    "4. Classify into buckets (fast, medium, slow)"
   ]
  },
  {
   "cell_type": "code",
   "execution_count": 98,
   "id": "df377b44",
   "metadata": {},
   "outputs": [],
   "source": [
    "def classify(x):\n",
    "    if x >= 0.8:\n",
    "        return 'Fast Mover'\n",
    "    elif x <= 0.2:\n",
    "        return 'Slow Mover'\n",
    "    else:\n",
    "        return 'Medium Mover'\n",
    "\n",
    "\n",
    "sku_pack_sales_grouped['mover_type'] = sku_pack_sales_grouped['percentile'].apply(classify)"
   ]
  },
  {
   "cell_type": "code",
   "execution_count": 99,
   "id": "8ccfa9e5",
   "metadata": {},
   "outputs": [
    {
     "name": "stdout",
     "output_type": "stream",
     "text": [
      "       sku   category  pack_type  units_sold  rank  percentile    mover_type\n",
      "0   JU-021      Juice     Carton       41949  43.0    0.477778  Medium Mover\n",
      "1   JU-021      Juice  Multipack       41437  45.0    0.500000  Medium Mover\n",
      "2   JU-021      Juice     Single       40963  48.0    0.533333  Medium Mover\n",
      "3   MI-002       Milk     Carton       32617  79.0    0.877778    Fast Mover\n",
      "4   MI-002       Milk  Multipack       30486  84.0    0.933333    Fast Mover\n",
      "5   MI-002       Milk     Single       32431  81.0    0.900000    Fast Mover\n",
      "6   MI-006       Milk     Carton       43706  40.0    0.444444  Medium Mover\n",
      "7   MI-006       Milk  Multipack       44781  36.0    0.400000  Medium Mover\n",
      "8   MI-006       Milk     Single       44136  38.0    0.422222  Medium Mover\n",
      "9   MI-008       Milk     Carton       28754  86.0    0.955556    Fast Mover\n",
      "10  MI-008       Milk  Multipack       27079  89.0    0.988889    Fast Mover\n",
      "11  MI-008       Milk     Single       27055  90.0    1.000000    Fast Mover\n",
      "12  MI-011       Milk     Carton       27299  88.0    0.977778    Fast Mover\n",
      "13  MI-011       Milk  Multipack       29443  85.0    0.944444    Fast Mover\n",
      "14  MI-011       Milk     Single       27884  87.0    0.966667    Fast Mover\n",
      "15  MI-022       Milk     Carton       33084  77.0    0.855556    Fast Mover\n",
      "16  MI-022       Milk  Multipack       33636  73.0    0.811111    Fast Mover\n",
      "17  MI-022       Milk     Single       34395  69.0    0.766667  Medium Mover\n",
      "18  MI-023       Milk     Carton       44504  37.0    0.411111  Medium Mover\n",
      "19  MI-023       Milk  Multipack       43292  41.0    0.455556  Medium Mover\n",
      "20  MI-023       Milk     Single       45828  33.0    0.366667  Medium Mover\n",
      "21  MI-026       Milk     Carton       51575  11.0    0.122222    Slow Mover\n",
      "22  MI-026       Milk  Multipack       49907  14.0    0.155556    Slow Mover\n",
      "23  MI-026       Milk     Single       50842  13.0    0.144444    Slow Mover\n",
      "24  RE-004  ReadyMeal     Carton       49729  16.0    0.177778    Slow Mover\n",
      "25  RE-004  ReadyMeal  Multipack       48100  28.0    0.311111  Medium Mover\n",
      "26  RE-004  ReadyMeal     Single       51730  10.0    0.111111    Slow Mover\n",
      "27  RE-007  ReadyMeal     Carton       48191  26.0    0.288889  Medium Mover\n",
      "28  RE-007  ReadyMeal  Multipack       48945  21.0    0.233333  Medium Mover\n",
      "29  RE-007  ReadyMeal     Single       49569  17.0    0.188889    Slow Mover\n",
      "30  RE-015  ReadyMeal     Carton       46828  30.0    0.333333  Medium Mover\n",
      "31  RE-015  ReadyMeal  Multipack       48674  22.0    0.244444  Medium Mover\n",
      "32  RE-015  ReadyMeal     Single       49032  19.0    0.211111  Medium Mover\n",
      "33  RE-017  ReadyMeal     Carton       39032  57.0    0.633333  Medium Mover\n",
      "34  RE-017  ReadyMeal  Multipack       39322  56.0    0.622222  Medium Mover\n",
      "35  RE-017  ReadyMeal     Single       37998  59.0    0.655556  Medium Mover\n",
      "36  RE-025  ReadyMeal     Carton       40217  52.0    0.577778  Medium Mover\n",
      "37  RE-025  ReadyMeal  Multipack       41178  46.0    0.511111  Medium Mover\n",
      "38  RE-025  ReadyMeal     Single       40289  51.0    0.566667  Medium Mover\n",
      "39  SN-010   SnackBar     Carton       41012  47.0    0.522222  Medium Mover\n",
      "40  SN-010   SnackBar  Multipack       39554  54.0    0.600000  Medium Mover\n",
      "41  SN-010   SnackBar     Single       40933  49.0    0.544444  Medium Mover\n",
      "42  SN-013   SnackBar     Carton       34936  68.0    0.755556  Medium Mover\n",
      "43  SN-013   SnackBar  Multipack       33534  75.0    0.833333    Fast Mover\n",
      "44  SN-013   SnackBar     Single       34940  67.0    0.744444  Medium Mover\n",
      "45  SN-019   SnackBar     Carton       36809  63.0    0.700000  Medium Mover\n",
      "46  SN-019   SnackBar  Multipack       35508  66.0    0.733333  Medium Mover\n",
      "47  SN-019   SnackBar     Single       37276  60.0    0.666667  Medium Mover\n",
      "48  SN-027   SnackBar     Carton       39500  55.0    0.611111  Medium Mover\n",
      "49  SN-027   SnackBar  Multipack       38832  58.0    0.644444  Medium Mover\n",
      "50  SN-027   SnackBar     Single       37054  61.0    0.677778  Medium Mover\n",
      "51  SN-028   SnackBar     Carton       33968  71.0    0.788889  Medium Mover\n",
      "52  SN-028   SnackBar  Multipack       33742  72.0    0.800000    Fast Mover\n",
      "53  SN-028   SnackBar     Single       33996  70.0    0.777778  Medium Mover\n",
      "54  SN-030   SnackBar     Carton       32304  82.0    0.911111    Fast Mover\n",
      "55  SN-030   SnackBar  Multipack       30902  83.0    0.922222    Fast Mover\n",
      "56  SN-030   SnackBar     Single       32525  80.0    0.888889    Fast Mover\n",
      "57  YO-001     Yogurt     Carton       48117  27.0    0.300000  Medium Mover\n",
      "58  YO-001     Yogurt  Multipack       49500  18.0    0.200000    Slow Mover\n",
      "59  YO-001     Yogurt     Single       49029  20.0    0.222222  Medium Mover\n"
     ]
    }
   ],
   "source": [
    "print(sku_pack_sales_grouped.head(60))"
   ]
  },
  {
   "cell_type": "markdown",
   "id": "cfde00f2",
   "metadata": {},
   "source": [
    "Pivot for multiple bar chart (sku+category as index, pack_type as bars)"
   ]
  },
  {
   "cell_type": "code",
   "execution_count": 100,
   "id": "8af8f2d0",
   "metadata": {},
   "outputs": [],
   "source": [
    "import matplotlib.pyplot as plt\n",
    "\n",
    "#set pivottable first\n",
    "pivot = sku_pack_sales_grouped.pivot_table(\n",
    "    index=['category', 'sku'],\n",
    "    columns='pack_type',\n",
    "    values='units_sold'\n",
    ")"
   ]
  },
  {
   "cell_type": "code",
   "execution_count": 102,
   "id": "780ab434",
   "metadata": {},
   "outputs": [
    {
     "data": {
      "image/png": "[encoded data removed]",
      "text/plain": [
       "<Figure size 1400x600 with 1 Axes>"
      ]
     },
     "metadata": {},
     "output_type": "display_data"
    }
   ],
   "source": [
    "#set multiple barchart\n",
    "pivot.plot(kind='bar', figsize=(14,6))\n",
    "plt.title('Units sold by SKU + Pack Type (with rank and percentiles)')\n",
    "plt.ylabel('Units Sold')\n",
    "plt.xlabel('Category & SKU')\n",
    "plt.xticks(rotation=45)\n",
    "plt.legend(title='Pack Type')\n",
    "plt.tight_layout()\n",
    "plt.show()"
   ]
  },
  {
   "cell_type": "code",
   "execution_count": null,
   "id": "3d76a8ee",
   "metadata": {},
   "outputs": [],
   "source": []
  }
 ],
 "metadata": {
  "kernelspec": {
   "display_name": "Python 3",
   "language": "python",
   "name": "python3"
  },
  "language_info": {
   "codemirror_mode": {
    "name": "ipython",
    "version": 3
   },
   "file_extension": ".py",
   "mimetype": "text/x-python",
   "name": "python",
   "nbconvert_exporter": "python",
   "pygments_lexer": "ipython3",
   "version": "3.13.3"
  }
 },
 "nbformat": 4,
 "nbformat_minor": 5
}
